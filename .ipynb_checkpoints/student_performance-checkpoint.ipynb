{
 "metadata": {
  "name": "",
  "signature": "sha256:1c0a7df21c62c8de36deff0fd4e698ff5c4703762062161f8f7821e21f522e50"
 },
 "nbformat": 3,
 "nbformat_minor": 0,
 "worksheets": [
  {
   "cells": [
    {
     "cell_type": "markdown",
     "metadata": {},
     "source": [
      "#Predicting Student Performance\n",
      "\n",
      "###A data science experiment using data from the KDD 2010 Educational Data Mining Challenge\n",
      "\n",
      "The aim of this IPython Notebook is to show how we can use Python to build predictive algorithms that solve data science problems in the arena of education.\n",
      "\n",
      "**This notebook is still heavily under construction**"
     ]
    },
    {
     "cell_type": "code",
     "collapsed": false,
     "input": [
      "import pandas as pd\n",
      "import numpy as np\n",
      "import matplotlib.pyplot as plt"
     ],
     "language": "python",
     "metadata": {},
     "outputs": [],
     "prompt_number": 1
    },
    {
     "cell_type": "code",
     "collapsed": false,
     "input": [
      "# Get the data: Algebra 2005-2006\n",
      "train_filepath = 'data/algebra0506/algebra_2005_2006_train.txt'\n",
      "test_filepath  = 'data/algebra0506/algebra_2005_2006_test.txt'\n",
      "traindata = pd.read_table(train_filepath)"
     ],
     "language": "python",
     "metadata": {},
     "outputs": [],
     "prompt_number": 2
    },
    {
     "cell_type": "markdown",
     "metadata": {},
     "source": [
      "Some more information the data format can be found on the [challenge website](https://pslcdatashop.web.cmu.edu/KDDCup/rules_data_format.jsp)"
     ]
    },
    {
     "cell_type": "code",
     "collapsed": false,
     "input": [
      "# Inspect some of the training data\n",
      "traindata.head()"
     ],
     "language": "python",
     "metadata": {},
     "outputs": [
      {
       "html": [
        "<div style=\"max-height:1000px;max-width:1500px;overflow:auto;\">\n",
        "<table border=\"1\" class=\"dataframe\">\n",
        "  <thead>\n",
        "    <tr style=\"text-align: right;\">\n",
        "      <th></th>\n",
        "      <th>Row</th>\n",
        "      <th>Anon Student Id</th>\n",
        "      <th>Problem Hierarchy</th>\n",
        "      <th>Problem Name</th>\n",
        "      <th>Problem View</th>\n",
        "      <th>Step Name</th>\n",
        "      <th>Step Start Time</th>\n",
        "      <th>First Transaction Time</th>\n",
        "      <th>Correct Transaction Time</th>\n",
        "      <th>Step End Time</th>\n",
        "      <th>Step Duration (sec)</th>\n",
        "      <th>Correct Step Duration (sec)</th>\n",
        "      <th>Error Step Duration (sec)</th>\n",
        "      <th>Correct First Attempt</th>\n",
        "      <th>Incorrects</th>\n",
        "      <th>Hints</th>\n",
        "      <th>Corrects</th>\n",
        "      <th>KC(Default)</th>\n",
        "      <th>Opportunity(Default)</th>\n",
        "    </tr>\n",
        "  </thead>\n",
        "  <tbody>\n",
        "    <tr>\n",
        "      <th>0</th>\n",
        "      <td> 1</td>\n",
        "      <td> 0BrbPbwCMz</td>\n",
        "      <td> Unit ES_04, Section ES_04-1</td>\n",
        "      <td> EG4-FIXED</td>\n",
        "      <td> 1</td>\n",
        "      <td> 3(x+2) = 15</td>\n",
        "      <td> 2005-09-09 12:24:35.0</td>\n",
        "      <td> 2005-09-09 12:24:49.0</td>\n",
        "      <td> 2005-09-09 12:25:15.0</td>\n",
        "      <td> 2005-09-09 12:25:15.0</td>\n",
        "      <td>  40</td>\n",
        "      <td> NaN</td>\n",
        "      <td> 40</td>\n",
        "      <td> 0</td>\n",
        "      <td> 2</td>\n",
        "      <td> 3</td>\n",
        "      <td> 1</td>\n",
        "      <td> [SkillRule: Eliminate Parens; {CLT nested; CLT...</td>\n",
        "      <td>    1</td>\n",
        "    </tr>\n",
        "    <tr>\n",
        "      <th>1</th>\n",
        "      <td> 2</td>\n",
        "      <td> 0BrbPbwCMz</td>\n",
        "      <td> Unit ES_04, Section ES_04-1</td>\n",
        "      <td> EG4-FIXED</td>\n",
        "      <td> 1</td>\n",
        "      <td>     x+2 = 5</td>\n",
        "      <td> 2005-09-09 12:25:15.0</td>\n",
        "      <td> 2005-09-09 12:25:31.0</td>\n",
        "      <td> 2005-09-09 12:25:31.0</td>\n",
        "      <td> 2005-09-09 12:25:31.0</td>\n",
        "      <td>  16</td>\n",
        "      <td>  16</td>\n",
        "      <td>NaN</td>\n",
        "      <td> 1</td>\n",
        "      <td> 0</td>\n",
        "      <td> 0</td>\n",
        "      <td> 1</td>\n",
        "      <td> [SkillRule: Remove constant; {ax+b=c, positive...</td>\n",
        "      <td> 1~~1</td>\n",
        "    </tr>\n",
        "    <tr>\n",
        "      <th>2</th>\n",
        "      <td> 3</td>\n",
        "      <td> 0BrbPbwCMz</td>\n",
        "      <td> Unit ES_04, Section ES_04-1</td>\n",
        "      <td>      EG40</td>\n",
        "      <td> 1</td>\n",
        "      <td>   2-8y = -4</td>\n",
        "      <td> 2005-09-09 12:25:36.0</td>\n",
        "      <td> 2005-09-09 12:25:43.0</td>\n",
        "      <td> 2005-09-09 12:26:12.0</td>\n",
        "      <td> 2005-09-09 12:26:12.0</td>\n",
        "      <td>  36</td>\n",
        "      <td> NaN</td>\n",
        "      <td> 36</td>\n",
        "      <td> 0</td>\n",
        "      <td> 2</td>\n",
        "      <td> 3</td>\n",
        "      <td> 1</td>\n",
        "      <td> [SkillRule: Remove constant; {ax+b=c, positive...</td>\n",
        "      <td>    2</td>\n",
        "    </tr>\n",
        "    <tr>\n",
        "      <th>3</th>\n",
        "      <td> 4</td>\n",
        "      <td> 0BrbPbwCMz</td>\n",
        "      <td> Unit ES_04, Section ES_04-1</td>\n",
        "      <td>      EG40</td>\n",
        "      <td> 1</td>\n",
        "      <td>    -8y = -6</td>\n",
        "      <td> 2005-09-09 12:26:12.0</td>\n",
        "      <td> 2005-09-09 12:26:34.0</td>\n",
        "      <td> 2005-09-09 12:26:34.0</td>\n",
        "      <td> 2005-09-09 12:26:34.0</td>\n",
        "      <td>  22</td>\n",
        "      <td>  22</td>\n",
        "      <td>NaN</td>\n",
        "      <td> 1</td>\n",
        "      <td> 0</td>\n",
        "      <td> 0</td>\n",
        "      <td> 1</td>\n",
        "      <td> [SkillRule: Remove coefficient; {ax+b=c, divid...</td>\n",
        "      <td> 1~~1</td>\n",
        "    </tr>\n",
        "    <tr>\n",
        "      <th>4</th>\n",
        "      <td> 5</td>\n",
        "      <td> 0BrbPbwCMz</td>\n",
        "      <td> Unit ES_04, Section ES_04-1</td>\n",
        "      <td>      EG40</td>\n",
        "      <td> 2</td>\n",
        "      <td>  -7y-5 = -4</td>\n",
        "      <td> 2005-09-09 12:26:38.0</td>\n",
        "      <td> 2005-09-09 12:28:36.0</td>\n",
        "      <td> 2005-09-09 12:28:36.0</td>\n",
        "      <td> 2005-09-09 12:28:36.0</td>\n",
        "      <td> 118</td>\n",
        "      <td> 118</td>\n",
        "      <td>NaN</td>\n",
        "      <td> 1</td>\n",
        "      <td> 0</td>\n",
        "      <td> 0</td>\n",
        "      <td> 1</td>\n",
        "      <td> [SkillRule: Remove constant; {ax+b=c, positive...</td>\n",
        "      <td> 3~~1</td>\n",
        "    </tr>\n",
        "  </tbody>\n",
        "</table>\n",
        "<p>5 rows \u00d7 19 columns</p>\n",
        "</div>"
       ],
       "metadata": {},
       "output_type": "pyout",
       "prompt_number": 3,
       "text": [
        "   Row Anon Student Id            Problem Hierarchy Problem Name  \\\n",
        "0    1      0BrbPbwCMz  Unit ES_04, Section ES_04-1    EG4-FIXED   \n",
        "1    2      0BrbPbwCMz  Unit ES_04, Section ES_04-1    EG4-FIXED   \n",
        "2    3      0BrbPbwCMz  Unit ES_04, Section ES_04-1         EG40   \n",
        "3    4      0BrbPbwCMz  Unit ES_04, Section ES_04-1         EG40   \n",
        "4    5      0BrbPbwCMz  Unit ES_04, Section ES_04-1         EG40   \n",
        "\n",
        "   Problem View    Step Name        Step Start Time First Transaction Time  \\\n",
        "0             1  3(x+2) = 15  2005-09-09 12:24:35.0  2005-09-09 12:24:49.0   \n",
        "1             1      x+2 = 5  2005-09-09 12:25:15.0  2005-09-09 12:25:31.0   \n",
        "2             1    2-8y = -4  2005-09-09 12:25:36.0  2005-09-09 12:25:43.0   \n",
        "3             1     -8y = -6  2005-09-09 12:26:12.0  2005-09-09 12:26:34.0   \n",
        "4             2   -7y-5 = -4  2005-09-09 12:26:38.0  2005-09-09 12:28:36.0   \n",
        "\n",
        "  Correct Transaction Time          Step End Time  Step Duration (sec)  \\\n",
        "0    2005-09-09 12:25:15.0  2005-09-09 12:25:15.0                   40   \n",
        "1    2005-09-09 12:25:31.0  2005-09-09 12:25:31.0                   16   \n",
        "2    2005-09-09 12:26:12.0  2005-09-09 12:26:12.0                   36   \n",
        "3    2005-09-09 12:26:34.0  2005-09-09 12:26:34.0                   22   \n",
        "4    2005-09-09 12:28:36.0  2005-09-09 12:28:36.0                  118   \n",
        "\n",
        "   Correct Step Duration (sec)  Error Step Duration (sec)  \\\n",
        "0                          NaN                         40   \n",
        "1                           16                        NaN   \n",
        "2                          NaN                         36   \n",
        "3                           22                        NaN   \n",
        "4                          118                        NaN   \n",
        "\n",
        "   Correct First Attempt  Incorrects  Hints  Corrects  \\\n",
        "0                      0           2      3         1   \n",
        "1                      1           0      0         1   \n",
        "2                      0           2      3         1   \n",
        "3                      1           0      0         1   \n",
        "4                      1           0      0         1   \n",
        "\n",
        "                                         KC(Default) Opportunity(Default)  \n",
        "0  [SkillRule: Eliminate Parens; {CLT nested; CLT...                    1  \n",
        "1  [SkillRule: Remove constant; {ax+b=c, positive...                 1~~1  \n",
        "2  [SkillRule: Remove constant; {ax+b=c, positive...                    2  \n",
        "3  [SkillRule: Remove coefficient; {ax+b=c, divid...                 1~~1  \n",
        "4  [SkillRule: Remove constant; {ax+b=c, positive...                 3~~1  \n",
        "\n",
        "[5 rows x 19 columns]"
       ]
      }
     ],
     "prompt_number": 3
    },
    {
     "cell_type": "markdown",
     "metadata": {},
     "source": [
      "Let's begin asking some basic questions of the data\n",
      "\n",
      "### How many students are interacting with the system?"
     ]
    },
    {
     "cell_type": "code",
     "collapsed": false,
     "input": [
      "# Take the column of anonimized student IDs and count the number of unique entries\n",
      "print 'Number of students: ', len(np.unique(traindata['Anon Student Id']))"
     ],
     "language": "python",
     "metadata": {},
     "outputs": [
      {
       "output_type": "stream",
       "stream": "stdout",
       "text": [
        "Number of students:  "
       ]
      },
      {
       "output_type": "stream",
       "stream": "stdout",
       "text": [
        "574\n"
       ]
      }
     ],
     "prompt_number": 4
    },
    {
     "cell_type": "markdown",
     "metadata": {},
     "source": [
      "### How long does it take a student to solve any problem step on average?"
     ]
    },
    {
     "cell_type": "code",
     "collapsed": true,
     "input": [
      "csd = traindata['Correct Step Duration (sec)']\n",
      "csd.describe()"
     ],
     "language": "python",
     "metadata": {},
     "outputs": [
      {
       "metadata": {},
       "output_type": "pyout",
       "prompt_number": 5,
       "text": [
        "count    620129.000000\n",
        "mean         18.071478\n",
        "std          34.796694\n",
        "min           0.000000\n",
        "25%           5.000000\n",
        "50%           8.000000\n",
        "75%          18.000000\n",
        "max        1907.000000\n",
        "Name: Correct Step Duration (sec), dtype: float64"
       ]
      }
     ],
     "prompt_number": 5
    },
    {
     "cell_type": "markdown",
     "metadata": {},
     "source": [
      "So ignoring all the students that did not solve a problem step correctly, the average duraction for any problem step was about 18 seconds.\n",
      "\n",
      "Let's histogram this data to see the distribution."
     ]
    },
    {
     "cell_type": "code",
     "collapsed": false,
     "input": [
      "%matplotlib inline\n",
      "hist = plt.hist(np.array(csd.dropna()),bins=100,normed=True,log=False,range=(0,100))\n",
      "plt.xlabel('Time to correct answer (sec)')\n",
      "plt.ylabel('Fraction')\n",
      "plt.show()"
     ],
     "language": "python",
     "metadata": {},
     "outputs": [
      {
       "metadata": {},
       "output_type": "display_data",
       "png": "[encoded data removed]",
       "text": [
        "<matplotlib.figure.Figure at 0x1080423d0>"
       ]
      }
     ],
     "prompt_number": 7
    },
    {
     "cell_type": "code",
     "collapsed": false,
     "input": [
      "counts, bins = hist[0], hist[1]\n",
      "cdf = np.cumsum(counts)\n",
      "plt.plot(bins[1::], cdf)\n",
      "plt.xlabel('Time to correct answer (sec)')\n",
      "plt.ylabel('Cumulative fraction')\n",
      "plt.axis((0,100,0,1.0))\n",
      "plt.show()"
     ],
     "language": "python",
     "metadata": {},
     "outputs": [
      {
       "metadata": {},
       "output_type": "display_data",
       "png": "[encoded data removed]",
       "text": [
        "<matplotlib.figure.Figure at 0x11efe2790>"
       ]
      }
     ],
     "prompt_number": 8
    },
    {
     "cell_type": "markdown",
     "metadata": {},
     "source": [
      "The histogram shows visually what mere statistics hints at. The distribution of students is heavily weighted towards those who are solving problems in under 20 seconds. The cumulative distribution function (CDF) shows that roughly 80% of successful students solve the problem within 20 seconds. After 40 seconds, 90% of successful students have finished the problem. Almost no students take longer than 80 seconds."
     ]
    },
    {
     "cell_type": "markdown",
     "metadata": {},
     "source": [
      "### Completion time by problem\n",
      "\n",
      "OK, let's ask a slightly harder question: how are students doing problem by problem? The answer will take several parts.\n",
      "\n",
      "First, let's get the number of unique problems"
     ]
    },
    {
     "cell_type": "code",
     "collapsed": false,
     "input": [
      "# The unique identifier for each problem is the 'Problem Name'\n",
      "problems = traindata['Problem Name']"
     ],
     "language": "python",
     "metadata": {},
     "outputs": [],
     "prompt_number": 43
    },
    {
     "cell_type": "code",
     "collapsed": false,
     "input": [
      "# Get just the uniques\n",
      "problems = np.unique(problems)\n",
      "print 'Number of unique problems: ', len(problems)"
     ],
     "language": "python",
     "metadata": {},
     "outputs": [
      {
       "output_type": "stream",
       "stream": "stdout",
       "text": [
        "Number of unique problems:  1084\n"
       ]
      }
     ],
     "prompt_number": 44
    },
    {
     "cell_type": "code",
     "collapsed": false,
     "input": [
      "pmedian_times = {}\n",
      "for p in problems:\n",
      "    pmedian_times[p] = traindata[traindata['Problem Name'] == p]['Correct Step Duration (sec)'].median()"
     ],
     "language": "python",
     "metadata": {},
     "outputs": [
      {
       "output_type": "stream",
       "stream": "stdout",
       "text": [
        "{'NEWS02': 5.0, 'NEWS01': 11.0, 'PROP19': 6.0, 'REAL29': 5.5, 'PROP12': 12.0, 'REAL25': 9.0, 'REAL27': 9.0, 'REAL20': 15.0, 'REAL19B': 10.0, 'TRANSFORMG019': 1.6669999999999998, 'NEWSQUARE4TRE': 8.0, 'NEWSQUARE2TRE': 7.0, 'DEC03C': 13.0, 'DEC03B': 8.0, 'DEC03A': 12.0, 'EG11C': 10.0, 'EG11B': 11.0, 'EG11A': 10.0, 'EG-FACTOR18': 9.0, 'BH1T39A': 12.0, 'BH1T39B': 11.0, 'BH1T39C': 12.0, 'IPCSNOW': 6.0, 'PROP13': 18.0, 'DIST01': 6.0, 'EG-FACTOR10': 7.0, 'EG-FACTOR11': 9.0, 'EG-FACTOR12': 6.0, 'EG-FACTOR13': 4.0, 'EG-FACTOR14': 6.0, '2PTFB22': 7.0, '2PTFB21': 7.0, '2PTFB20': 8.0, 'EG35': 5.0, 'EG34': 6.0, 'EG37': 4.0, 'EG36': 8.0, 'EG31': 6.0, 'EG30': 7.0, 'EG33': 4.0, 'EG32': 4.0, 'LIT24A': 11.5, 'TRANSFORMG027': 2.5, 'SYSFB19': 8.0, 'SYSFB18': 10.0, 'DEMO_10': 6.0, 'EG38': 7.0, 'TRANSFORMG020': 2.5, 'TRANSFORMG021': 2.0, 'LIT33A': 8.0, 'PROP10': 11.0, 'LIT70A': 11.0, 'PERCENT15': 7.0, 'TPH04': 7.0, 'IPCBABY': 9.0, 'LIT86': 9.0, 'LIT69': 11.0, 'TRANSFORMV031': 3.0, 'DISTFB07_SP': 8.0, 'EG20A': nan, 'LDEMO_PTY': 7.0, 'RXMX_3B': 12.0, 'JAN11A': 13.0, 'JAN11C': 12.0, 'JAN11B': 13.0, 'YGT5X+12': 4.0, 'PERCENT17': 10.0, 'BH1T46': 8.0, 'LIT65': 10.0, 'RXMX_3A': 12.0, 'L3NOV07A': 13.0, 'JAN03': 9.0, 'TRANSFORMV042': 4.0, 'TRANSFORMV041': 2.25, 'P-3X-YLT6': 5.0, 'TRANSFORMN029': 3.5, 'LIT3A': 5.5, 'TRANSFORMV039': 4.0, 'LIT62': 10.0, 'LIT80A': 10.0, 'TRANSFORMN028': 2.0, 'L3NOV07B': 11.0, 'EG42C': 15.0, 'EG42B': 13.0, 'EG42A': 14.0, 'LIT1A': 6.0, 'L6FB19': 10.0, 'EMX03A': 9.0, 'EG38B': 5.5, 'EG38C': 6.0, 'REAL19C': 13.0, 'EG38A': 7.0, 'LIT66': 11.0, 'FOR01': 6.0, 'LIT67': 11.0, 'FOR02': 8.0, 'DISTFB12_SP': 8.0, 'BH1T08C': 10.0, 'LIT9': 4.5, 'LIT8': 6.0, 'DIST04_SP': 7.0, 'LIT5': 5.0, 'LIT4': 6.0, 'LIT7': 8.0, 'LIT6': 7.0, 'BH1T24B': 13.0, 'BH1T24C': 10.0, 'LIT3': 5.0, 'BH1T24A': 12.0, 'BH1T32A': 11.0, 'YGTX-7': 9.0, 'BH1T32C': 11.0, 'BH1T32B': 8.0, 'XGE0': 3.0, 'PSNPOLEVAULT': 6.0, 'TRANSFORMG024': 2.0, 'SYSFB25': 9.0, 'SYSFB12': 9.0, '2PTFB16': 7.0, 'LIT39': 10.0, 'LIT38': 8.0, 'TRANSFORMG007': 2.0, 'JAN08': 6.5, 'JAN09': 9.0, 'JAN06': 8.0, 'JAN07': 9.0, 'JAN04': 13.5, 'JAN05': 11.0, 'LIT37': 7.0, 'EG55A': 15.0, 'LIT35': 6.0, 'JAN01': 8.0, 'EG-EQS06': 5.0, 'EG-EQS07': 4.0, 'EG-EQS04': 5.0, 'EG-EQS05': 5.0, 'EG-EQS02': 3.0, 'EG-EQS03': 3.0, 'EG-EQS01': 3.0, 'EG-EQS08': 4.0, 'EG-EQS09': 4.0, 'BH1T32': 10.0, 'BH1T33': 19.0, 'BH1T30': 10.0, 'BH1T31': 11.0, 'BH1T36': 12.0, 'BH1T37': 6.0, 'BH1T34': 13.0, 'BH1T35': 12.0, 'PERCENT03B': 9.0, 'PERCENT03C': 9.0, 'BH1T38': 5.0, 'BH1T39': 13.0, 'TRANSFORMN017': 1.75, 'TRANSFORMN016': 2.0, 'TRANSFORMN030': 2.0, 'EG-FACTOR15': 7.0, 'LIT59A': 12.0, 'LIT32A': 9.0, 'EG-FACTOR16': 6.0, 'TRANSFORMN010': 2.0, 'NEWQUAD7TRE': 7.0, 'EG-FACTOR17': 5.0, 'TRANSFORMN011': 1.5, 'PROP16': 9.0, 'PROP17': 6.0, 'PROP14': 6.0, 'PROP15': 6.0, 'EG-FACTOR50': 7.0, 'EG9B': 7.0, 'EG9A': 19.0, 'P-2X+5YGT10': 5.0, 'TRANSFORMG053': 2.25, 'BH1T29A': 12.0, 'SYSFB11': 10.0, 'BH1T29C': 10.0, 'BH1T29B': 11.0, 'TRANSFORMG062': 3.0, 'BH1T14': 4.0, 'PROP18': 6.0, 'TPH11': 7.0, 'TRANSFORMG064': 3.5, 'BH1T15': 16.0, 'SYSFB17': 10.0, 'TRANSFORMN003': 2.0, 'YGE4X-11': 5.0, 'LIT11A': 13.0, 'TRANSFORMG002': 2.0, 'LIT32': 7.0, 'BH1T17': 13.0, 'SYSFB15': 9.0, 'TRANSFORMN026': 2.5, 'EG7A': 6.0, 'BH1T10': 14.0, 'EG7C': 6.0, 'EG7B': 6.0, 'PERCENT01A': 10.0, 'EG33C': 4.0, 'EG33B': 4.0, 'EG33A': 4.0, 'EG24': 8.0, 'LIT66A': 11.0, 'TRANSFORMA007': 2.0, 'BH1T13': 5.0, 'PERCENT04C': 11.0, 'LIT74A': 10.0, 'PERCENT04A': 11.0, 'TRANSFORMG025': 2.0, 'FOR06C': 9.0, 'FOR06B': 13.0, 'FOR06A': 4.5, 'BH1T02B': 10.0, 'BH1T02C': 8.0, 'BH1T02A': 10.0, 'LIT49': 8.0, 'TRANSFORMG023': 2.0, 'TRANSFORMA004': 2.0, 'YGT-4X-10': 4.0, 'LIT34A': 8.0, 'LIT69A': 12.0, 'DISTFB01_SP': 8.0, 'TRANSFORMN020': 2.0, 'LIT82': 12.0, 'BH1T27C': 8.0, 'BH1T27B': 9.0, 'BH1T27A': 9.0, 'TRANSFORMA038': 3.0, 'TRANSFORMA005': 3.0, 'BH1T47A': 12.0, 'EG39C': 5.0, 'BH1T47C': 8.0, 'BH1T47B': 16.0, 'TRANSFORMA037': 2.5, 'TRANSFORMA036': 2.5, 'TRANSFORMA035': 2.0, 'EG39B': 7.5, 'TRANSFORMA033': 2.0, 'TRANSFORMA032': 2.0, 'TRANSFORMA031': 2.0, 'EG50A': 10.0, 'TRANSFORMA034': 2.0, 'TRANSFORMA050': 2.0, 'LIT7A': 6.0, 'IPCPAIGE': 9.0, 'TRANSFORMG052': 2.0, 'TRANSFORMN022': 2.0, 'LIT80': 10.0, 'EG-S-FACTOR12': 4.0, 'EG-S-FACTOR13': 4.0, 'EG-S-FACTOR10': 4.0, 'EG-S-FACTOR11': 5.0, 'EG-S-FACTOR16': 4.0, 'EG-S-FACTOR17': 4.0, 'EG-S-FACTOR14': 4.0, 'EG-S-FACTOR15': 5.0, 'EG-S-FACTOR18': 4.0, 'EG-S-FACTOR19': 4.0, 'LIT28A': 13.0, '1PTB09': 7.0, '1PTB08': 6.0, 'TRANSFORMV019': 2.0, 'LIT79': 11.0, 'LIT78': 9.5, '1PTB03': 6.0, '1PTB02': 7.0, 'FEB13': 8.0, 'FEB12': 5.0, '1PTB07': 6.0, '1PTB06': 12.0, '1PTB05': 6.0, '1PTB04': 8.0, 'TOYSALES': 10.0, 'L3REAL21': 8.0, '2PTS08': 7.0, '2PTS07': 7.0, '2PTS06': 8.0, '2PTS03': 7.0, '2PTS02': 6.0, '2PTS01': 8.5, 'NEWQUAD9TRE': 7.0, 'LIT23A': 12.0, 'TRANSFORMN002': 1.5, 'LIT30': 8.0, 'SYSFB24': 9.0, 'L3JAN02': 4.0, 'EG59A': 10.0, 'REAL00': 7.0, 'LIT9A': 5.0, 'RXMX1A': 11.0, 'RXMX1B': 11.0, 'RXMX1C': 11.0, 'REAL13C': 13.0, 'REAL13B': 11.0, 'REAL13A': 13.0, 'SYSFB10': 8.0, 'LDEMO_MSYS': 11.0, 'EG39': 5.0, 'TRANSFORMG009': 2.0, 'PERCENT01B': 10.0, 'L3NOV10': 17.0, 'L3NOV12': 13.0, 'LIT49A': 9.0, 'EG-EPS04-FIXED': 15.0, 'BH1T15B': 13.0, 'BH1T15C': 12.0, 'LIT43': 12.0, 'BH1T15A': 11.0, 'L3REAL50': 6.0, 'PERCENT01C': 10.0, 'TRANSFORMN019': 2.0, 'REAL28': 10.0, 'DISTFB11_SP': 11.0, 'SYS19': 7.0, 'SYS18': 10.0, 'REAL33': 7.0, 'REAL32': 9.0, 'REAL31': 6.0, 'REAL30': 9.0, 'REAL37': 8.0, 'REAL36': 6.0, 'REAL35': 9.0, '1PTFB11': 7.0, '1PTFB10': 7.0, '1PTFB13': 8.0, '1PTFB12': 6.0, '1PTFB15': 6.0, '1PTFB14': 9.0, '1PTFB17': 10.0, '1PTFB16': 8.0, '1PTFB18': 8.0, 'LIT62A': 10.0, 'LIT29A': 12.0, 'EG47A': 9.0, 'EG9': nan, 'EG8': 8.0, 'EG-FACTOR29': 6.0, 'EG-FACTOR28': 4.5, 'EG37A': 31.5, 'LIT25': 7.0, 'EG-FACTOR25': 8.5, 'EG-FACTOR24': 7.75, 'EG-FACTOR27': 5.0, 'EG-FACTOR26': 4.0, 'EG-FACTOR21': 5.0, 'EG-FACTOR20': 10.0, 'EG-FACTOR23': 8.0, 'EG-FACTOR22': 5.0, 'EG40': 8.0, 'EG41': 7.0, 'EG42': 14.0, 'EG43': 10.0, 'EG44': 8.0, 'EG45': 8.0, 'EG46': 8.0, 'EG47': 8.0, 'EG48': 8.0, 'EG49': 8.0, 'TRANSFORMG011': 2.0, 'TRANSFORMG010': 3.0, 'TRANSFORMG017': 2.0, 'TRANSFORMG016': 2.0, 'TRANSFORMG015': 2.0, 'TRANSFORMG014': 2.0, 'L5FB03': 8.0, 'YLT3X+5': 4.0, 'BH1T21C': 13.0, 'L5FB02': 8.0, 'BH1T23C': 15.0, 'BH1T23B': 13.0, 'BH1T23A': 13.0, 'REAL13': 12.0, 'EMX04': 9.0, 'BH1T33B': 20.0, 'BH1T33C': 23.0, 'BH1T33A': 17.0, 'L5FB03A': 14.0, 'DEMO_8': 8.0, 'L5FB03B': 12.0, 'REAL01': 6.0, 'NEWSQUARE5TRE': 7.0, 'DEMO_5': 10.0, 'SYS10': 9.0, 'LIT52A': 8.0, 'TRANSFORMN006': 2.0, 'L5FB05': 8.5, 'FOR08_SP': 8.0, 'YLE-3X-13': 5.0, 'L5FB04': 12.0, 'EG62A': 17.0, 'LIT29': 7.0, 'REAL19': 11.0, 'TRANSFORMG037': 2.0, 'LIT15A': 14.5, 'TRANSFORMV025': 3.0, 'L3REAL45': 8.0, 'BH1T08A': 9.0, 'BH1T08B': 9.0, 'DISTFB06_SP': 9.0, 'RXMX_2': 9.0, 'FOR05': 10.0, 'FOR06': 8.0, 'FOR07': 5.0, 'LIT36': 6.0, 'TRANSFORMV010': 2.75, 'TRANSFORMV020': 1.75, 'EG10A': 40.0, 'EG10B': 34.0, 'EG10C': 7.0, 'TRANSFORMG005': 2.5, 'REAL48': 7.0, 'LIT79A': 18.0, 'EG6A': 6.0, 'LIT47A': 7.0, 'TRANSFORMV026': 3.5, 'TRANSFORMV011': 3.0, 'TRANSFORMV040': 4.0, 'LIT57A': 13.0, 'L1FB12C': 10.0, 'L1FB12B': 16.0, 'L1FB12A': 15.0, 'NEWQUAD3TRE': 5.0, 'YGE0': 3.0, 'LIT24': 6.0, 'FEB11': 7.0, 'LIT26': 7.0, 'LIT27': 6.0, 'LIT20': 8.0, 'LIT21': 6.0, 'LIT22': 7.0, 'LIT23': 6.0, 'TRANSFORMV012': 2.5, 'LIT75A': 5.0, 'LIT28': 7.0, 'EG32A': 4.0, 'EG32B': 4.0, 'EG32C': 4.0, 'REAL32C': 11.0, 'TRANSFORMV024': 2.0, 'TRANSFORMV027': 2.25, 'LIT74': 9.0, 'TRANSFORMV021': 2.0, 'SYS08': 6.0, 'TRANSFORMV023': 2.0, 'TRANSFORMV022': 2.0, 'L2FB15C': 10.0, 'L2FB15B': 9.0, 'L2FB15A': 10.0, 'TRANSFORMV029': 3.0, 'TRANSFORMV028': 2.0, 'L3REAL12': 8.0, 'LIT72': 8.0, 'DIST11_SP': 9.0, 'LIT71': 10.0, 'LIT68A': 19.0, 'LIT70': 11.0, 'BH1T21': 11.0, 'BH1T20': 10.0, 'BH1T23': 13.0, 'BH1T22': 15.0, 'BH1T25': 4.0, 'BH1T24': 12.0, 'BH1T27': 9.0, 'BH1T26': 13.0, 'BH1T29': 12.0, 'EG16': 4.0, 'EG15': 4.0, 'EG14': 5.0, 'EG13': 5.0, 'EG12': nan, 'EG11': 5.0, 'EG10': 7.0, 'EG5-FIXED': 13.0, 'LDEMO_4QGRPH': 10.0, 'TRANSFORMG018': 3.0, 'EG53A': 8.0, 'TPH15': 7.0, 'TRANSFORMN009': 1.5, 'NEWQUAD11TRE': 5.0, 'EG43A': 14.0, 'PROP07': 12.0, 'PROP06': 11.0, 'PROP01': 10.0, 'LIT2A': 12.0, 'PROP03': 10.0, 'NEWQUAD10TRE': 6.0, 'TRANSFORMG057': 3.25, 'TRANSFORMG056': 2.0, 'TRANSFORMG055': 3.0, 'TRANSFORMG054': 2.0, 'PROP09': 10.0, 'PROP08': 9.0, 'TRANSFORMG051': 2.5, 'TRANSFORMG050': 2.0, 'NOV04A': 17.0, 'L2FB14A': 12.0, 'TRANSFORMG059': 3.0, 'L2FB14B': 12.0, 'REAL02': 6.0, 'PERCENT18': 10.0, 'LIT53A': 10.0, 'NOV04B': 14.0, 'REAL06': 9.0, 'REAL05': 5.0, 'PERCENT11': 5.0, 'PERCENT10': 6.0, 'PERCENT12': 10.0, 'DEC01A': 8.0, 'EG1-FIXED': 12.0, 'DEC01C': 7.0, 'DEC01B': 7.0, 'TRANSFORMN008': 2.5, 'TRANSFORMA021': 2.25, 'BH1T34C': 10.0, 'EG13A': 4.0, 'BH1T34B': 12.5, 'EG-EQS01-FIXED': 4.0, 'P-3X-7YLE14': 6.0, 'EG19': nan, 'EG18': 4.0, 'EG17': 5.0, 'TRANSFORMG003': 2.5, 'LDEMO_SYS': 9.0, 'BH1T28': 9.0, 'EG58A': 9.0, 'LIT17A': 11.0, 'LIT22A': 13.0, 'EG-FACTOR32': 8.0, 'PERCENT14B': 8.0, 'PERCENT14C': 8.0, 'LIT35A': 9.0, 'PERCENT14A': 9.0, 'RXMX_2A': 11.0, 'TRANSFORMN007': 2.0, 'EMX03C': 8.0, 'LIT72A': 7.0, 'TRANSFORMG035': 1.5, 'EMX03B': 8.0, 'TRANSFORMN005': 1.5, 'DEC05': 6.0, 'DEC04': 7.0, 'DEC07': 7.0, 'DEC06': 6.0, 'DEC01': 8.0, 'LDEMO_MBGRPH': 14.0, 'DEC03': 15.0, 'DEC02': 8.0, 'TRANSFORMA042': 2.0, 'TRANSFORMG036': 2.0, 'BH1T28B': 8.0, 'EG14A': 4.0, 'BH1T28A': 8.0, 'NOV13': 7.0, 'LIT12A': 6.0, 'NOV11': 7.0, 'NOV14': 5.0, 'L6FB18': 9.0, 'BH1T41C': 9.0, 'BH1T41B': 8.0, 'BH1T41A': 10.0, 'TRANSFORMG012': 2.25, 'REAL19A': 9.5, 'NEWSQUARE7TRE': 7.0, 'LIT68': 14.0, 'BH1T10A': 12.0, 'FEB08': 6.0, 'FEB09': 8.0, 'LIT82A': 7.0, 'RXMX_3C': 14.5, 'EG56A': 21.0, 'FEB02': 6.0, 'FEB03': 8.0, 'L3NOV07C': 11.0, 'FEB01': 8.0, 'FEB06': 5.0, 'FEB07': 10.0, 'FEB04': 8.0, 'FEB05': 8.0, 'EG36A': 24.0, 'EG36B': 5.0, 'EG36C': 4.0, 'LIT87': 8.0, 'TRANSFORMA054': 3.0, 'TRANSFORMA051': 4.0, 'LIT84': 9.5, 'TRANSFORMA053': 3.0, 'TRANSFORMA052': 3.0, 'LIT85': 14.0, 'LIT1': 5.0, 'LIT60': 6.0, 'NEWQUAD1TRE': 7.25, 'LIT46A': 10.0, 'LIT83': 20.0, 'PROP05': 11.0, 'BH1T26A': 13.0, 'BH1T26B': 10.0, 'BH1T26C': 13.0, 'BH1T30C': 9.0, 'BH1T30B': 12.0, 'BH1T30A': 10.0, 'LIT81': 9.0, 'TRANSFORMN001': 1.5, 'NEWQUAD4TRE': 6.0, 'YGE2X+7': 5.0, 'LIT30A': 13.0, 'IPCSWIMMING': 8.0, 'TRANSFORMA001': 2.0, 'L3NOV10A': 13.0, 'DISTFB04_SP': 8.0, 'L3NOV10C': 14.5, 'L3NOV10B': 14.0, 'LIT65A': 10.0, 'EG8A': 9.0, 'DISTFB13_SP': 6.0, 'LIT50A': 9.0, 'LIT19': 6.0, 'LIT18': 7.0, 'YGT-2X': 5.0, 'LIT15': 7.0, 'LIT6A': 8.0, 'LIT17': 7.0, 'LIT16': 5.0, 'LIT11': 6.0, 'LIT10': 7.0, 'LIT13': 6.5, 'LIT12': 4.5, '2X+3YGT9': 4.0, 'EG-S-FACTOR29': 6.0, 'EG-S-FACTOR28': 5.5, 'EG-S-FACTOR27': 6.0, 'EG-S-FACTOR26': 6.0, 'EG-S-FACTOR25': 5.0, 'EG-S-FACTOR24': 5.0, 'EG-S-FACTOR23': 5.0, 'EG-S-FACTOR22': 5.0, 'EG-S-FACTOR21': 5.0, 'EG-S-FACTOR20': 4.0, 'JAN13C': 11.0, 'JAN13B': 8.5, 'JAN13A': 17.0, 'SYS09': 10.0, 'SYS06': 13.0, 'SYS07': 7.0, 'SYS04': 11.0, 'SYS05': 13.0, 'SYS02': 9.0, 'LIT16A': 13.5, 'LIT2': 6.0, 'SYS01': 12.0, 'LIT63': 10.0, 'BH1T50': 7.0, 'BH1T51': 11.0, 'BH1T52': 11.0, 'RXMX_2B': 13.0, 'EG17A': 4.0, 'EG-FACTOR33': 6.0, 'EG-FACTOR30': 5.0, 'EG-FACTOR31': 4.0, 'EG-FACTOR36': 6.0, 'EG-FACTOR37': 4.0, 'EG-FACTOR34': 5.0, 'EG-FACTOR35': 4.0, 'EG-FACTOR38': 5.0, 'EG-FACTOR39': 5.0, 'SYSFB06': 9.0, 'LIT64': 10.0, 'EG53': 8.0, 'EG52': 8.0, 'EG51': 9.0, 'EG50': 9.0, 'EG57': 8.0, 'EG56': 16.0, 'EG55': 12.0, 'EG54': 8.0, 'DISTFB08_SP': 8.0, 'EG59': 9.0, 'EG58': 7.0, 'TRANSFORMG008': 2.0, 'LIT31A': 7.0, 'LIT88': 8.0, 'LIT89': 12.0, 'EG5C': 5.0, 'EG5B': 6.0, 'EG5A': 6.0, 'LIT8A': 4.0, 'JAN04C': 12.0, 'JAN04B': 12.0, 'JAN04A': 8.5, 'LIT64A': 11.0, 'NOV06': 5.0, 'EG18A': 3.5, 'LIT76A': 23.0, 'LIT48A': 11.5, '4X-5YGT40': 6.0, 'NEWQUAD5TRE': 6.0, 'NEWSQUARE3TRE': 6.0, 'TRANSFORMG061': 2.0, 'TRANSFORMN004': 2.0, 'EG-FACTOR19': 4.0, 'SYSFB08': 8.0, 'EG6-FIXED': 14.0, 'LIT36A': 8.0, '2X+YGE6': 4.0, 'BH1T35A': 11.0, 'BH1T35B': 11.0, 'BH1T35C': 13.0, 'DIST03_SP': 9.0, 'TRANSFORMG049': 2.0, 'TRANSFORMG006': 2.25, 'L5FB16': 12.0, 'LDEMO_PTPT': 6.0, 'DIST05_SP': 7.0, 'IPCTURDUCKEN': 6.0, 'L5FB17': 7.0, 'YLT2X-5': 4.0, 'EG52A': 9.0, 'TRANSFORMA024': 2.0, 'LIT5A': 17.5, 'TRANSFORMA010': 2.0, 'TRANSFORMA013': 1.75, 'TRANSFORMA012': 2.0, 'TRANSFORMA015': 1.5, 'TRANSFORMA014': 2.5, 'TRANSFORMA017': 2.0, 'TRANSFORMA016': 2.25, 'TRANSFORMA019': 2.0, 'TRANSFORMA018': 2.25, 'NOV04C': 14.0, 'SYSFB09': 9.0, 'PROP04': 13.0, 'LIT26A': 11.0, 'TRANSFORMG001': 1.5, 'BH1T22A': 14.0, 'BH1T22B': 14.0, 'BH1T22C': 13.0, 'PERCENT14': 8.0, 'LIT51': 8.0, 'LIT50': 9.0, 'LIT53': 8.0, 'LIT52': 9.0, 'LIT55': 8.0, 'LIT54': 7.0, 'LIT57': 6.0, 'LIT56': 8.0, 'LIT59': 6.0, 'LIT58': 6.0, 'TRANSFORMA039': 3.0, 'PERCENT16': 7.0, 'EG-EPS01-FIXED': 4.0, 'TRANSFORMV036': 2.0, 'TRANSFORMV034': 2.75, 'TRANSFORMV032': 3.0, 'TRANSFORMV033': 2.75, 'TRANSFORMV030': 2.0, 'LIT18A': 3.0, 'L1FB12': 9.0, 'L1FB13': 7.0, 'LIT40': 15.0, 'REAL18_SP': 9.0, 'EG63A': 8.5, 'LIT33': 6.0, 'TRANSFORMG022': 1.5, 'LIT21A': 8.0, 'XLT150': 4.0, 'LIT31': 7.0, 'TRANSFORMN014': 1.5, 'TRANSFORMN015': 2.0, 'EG28': 6.0, 'EG29': 6.0, 'BH1T18': 5.0, 'BH1T19': 11.0, 'TRANSFORMN012': 2.0, 'TRANSFORMN013': 1.75, 'EG22': 8.0, 'EG23': 9.0, 'EG20': nan, 'EG21': 8.0, 'EG26': 8.0, 'EG27': 8.0, 'BH1T12': 5.0, 'EG25': 8.0, 'RXMX1': 11.0, 'YLT250': 4.0, 'TRANSFORMA011': 3.0, 'LIT34': 6.0, 'TRANSFORMG048': 2.0, 'BH1T17A': 12.0, 'BH1T17B': 14.0, 'BH1T17C': 13.0, 'DIST02_SP': 7.0, 'TRANSFORMG040': 2.0, 'TRANSFORMG041': 3.0, 'TRANSFORMG042': 2.0, 'TRANSFORMG043': 2.0, 'TRANSFORMG044': 2.5, 'TRANSFORMG045': 2.0, 'TRANSFORMG046': 2.0, 'TRANSFORMG047': 3.0, 'LIT78A': 29.0, 'EG49A': 9.0, 'RXMX_2C': 11.0, 'REAL10': 8.0, 'PERCENT08': 2.0, 'PERCENT09': 9.0, 'REAL17': 14.0, 'REAL16': 9.0, 'PERCENT02': 3.5, 'PERCENT03': 10.0, 'PERCENT01': 10.0, 'PERCENT06': 11.0, 'PERCENT07': 7.0, 'PERCENT04': 10.0, 'PERCENT05': 11.0, 'LIT60A': 12.0, 'TRANSFORMA049': 2.5, 'BH1T34A': 10.0, 'EG45A': 8.0, 'EG35A': 6.0, 'TRANSFORMV007': 3.0, 'EG35C': 6.0, 'EG35B': 6.0, 'TRANSFORMV002': 2.0, 'EG-FACTOR09': 7.0, 'EG-FACTOR08': 5.0, 'DIST09_SP': 7.0, 'LDEMO_WKST': 15.0, 'EG-FACTOR03': 7.0, 'EG-FACTOR02': 6.0, 'EG-FACTOR01': 11.0, 'L2FB14C': 14.0, 'EG-FACTOR07': 8.0, 'EG-FACTOR06': 7.0, 'EG-FACTOR05': 7.0, 'EG-FACTOR04': 8.0, 'EG-EPS09': 4.0, 'EG-EPS08': 4.0, 'PROP02': 10.0, 'TRANSFORMG039': 1.5, 'TRANSFORMG038': 1.5, 'EG-EPS01': 4.0, 'EG57A': 9.0, 'EG-EPS03': 4.0, 'EG-EPS02': 4.0, 'EG-EPS05': 5.0, 'EG-EPS04': 5.0, 'EG-EPS07': 5.0, 'EG-EPS06': 5.0, 'EG19A': 2.0, 'L3FB01': 8.0, 'BH1T31A': 11.0, 'BH1T31B': 12.0, 'BH1T31C': 13.0, 'EG3-FIXED': 9.0, 'EMX04A': 9.0, 'REAL17C': 12.0, 'TRANSFORMG028': 2.0, 'REAL17B': 13.0, 'NOV04': 15.0, 'NOV05': 8.0, 'L2FB15': 9.0, 'L2FB14': 10.0, 'REAL17A': 13.0, 'TRANSFORMN018': 2.0, 'YLT-X-4': 5.0, 'NOV09': 7.0, 'EG48A': 8.0, 'IPCRETIREMENT': 8.0, 'NEWQUAD8TRE': 5.0, 'PERCENT03A': 9.0, 'LIT13A': 7.0, 'TRANSFORMN032': 2.0, 'LIT54A': 9.0, 'NEWQUAD2TRE': 7.0, 'TRANSFORMG026': 2.5, 'EG37C': 6.0, 'EMX04B': 10.5, 'EMX04C': 11.0, 'EG12B': 4.0, 'EG12C': 19.0, 'EG37B': 7.0, 'L6FB06': 9.0, 'L6FB07': 10.0, 'SYSFB13': 9.0, 'TRANSFORMA046': 3.0, 'TRANSFORMA047': 2.0, 'TRANSFORMA044': 2.5, 'TRANSFORMA045': 2.5, 'L6FB08': 9.0, 'TRANSFORMA043': 2.5, 'TRANSFORMA040': 2.0, 'TRANSFORMA041': 2.5, 'EG3': 7.0, 'EG2': 6.0, 'SYSFB23': 8.0, 'LIT25A': 13.0, 'EG1': 6.0, 'LIT76': 9.0, 'EG7': 6.5, 'EG6B': 7.0, 'BH1T09': 6.5, 'EG6': 6.0, 'LIT77A': 10.0, 'BH1T08': 8.0, 'EG5': 6.0, 'REAL32A': 14.0, 'DISTFB10_SP': 8.0, 'PERCENT05A': 11.0, 'PERCENT05B': 10.0, 'EG4': 7.0, 'L3_DEMO': 6.0, 'P-2X+YLE9': 5.0, 'IPCBASEBALL': 8.0, 'YLE-7X+20': 6.0, 'LIT77': 9.0, 'JAN14': 8.5, 'JAN11': 11.0, 'SYSFB02': 10.0, 'JAN13': 58.0, 'JAN12': 7.0, 'YLEX+7': 4.0, 'SYS03': 10.0, 'SYSFB03': 8.0, 'PERCENT04B': 11.0, 'EG-S-FACTOR30': 6.0, 'SYSFB04': 8.0, 'LIT37A': 9.0, 'SYSFB05': 9.0, 'BH1T47': 15.0, 'EG-EQS04-FIXED': 11.0, 'BH1T45': 7.0, 'BH1T44': 15.0, 'BH1T43': 10.0, 'BH1T42': 8.0, 'BH1T41': 8.0, 'BH1T40': 10.0, 'TRANSFORMN025': 3.0, 'TRANSFORMN024': 1.75, 'TRANSFORMN027': 1.75, 'SYSFB07': 8.0, 'REAL32B': 14.0, 'BH1T49': 5.0, 'BH1T48': 15.0, '3X-YLT6': 4.0, 'LIT81A': 14.0, '2PTFB14': 8.0, '2PTFB15': 7.0, '2PTFB12': 7.0, '2PTFB13': 7.0, '2PTFB10': 6.0, '2PTFB11': 7.0, 'REAL20A': 13.0, 'EG9C': 3.0, 'REAL20C': 12.0, 'REAL20B': 13.0, '2PTFB18': 9.0, '2PTFB19': 12.0, 'EG-FACTOR47': 23.0, 'EG-FACTOR46': 5.0, 'EG-FACTOR45': 21.0, 'EG-FACTOR44': 11.0, 'EG-FACTOR43': 11.0, 'EG-FACTOR42': 9.0, 'EG-FACTOR41': 18.5, 'EG-FACTOR40': 5.0, 'IPCEVEREST': 7.0, 'PROP11': 6.0, 'EG39A': 12.0, 'EG-FACTOR49': 8.0, 'EG-FACTOR48': 13.0, 'SYSFB22': 8.0, 'LDEMO_GRPH': 13.0, 'SYSFB20': 7.0, 'SYSFB21': 9.0, 'EG62': 13.0, 'EG63': 8.0, 'EG60': 9.0, 'EG61': 13.0, 'BH1T19B': 9.0, 'BH1T19C': 9.0, 'BH1T19A': 12.0, 'TRANSFORMA020': 3.0, 'BH1T21A': 12.0, 'EG15A': 5.0, 'EG2-FIXED': 9.0, 'BH1T21B': 13.0, 'NEWQUAD6TRE': 6.0, 'LIT75': 10.5, 'LIT73': 10.0, 'TRANSFORMA022': 2.5, 'LIT27A': 11.0, 'TRANSFORMA023': 2.5, 'LIT19A': 12.0, 'TRANSFORMG063': 1.5, 'L3NOV12C': 13.0, 'RXMX_3': 14.0, 'TRANSFORMG004': 2.0, 'EMX03': 8.0, 'LDEMO_DIST_SP': 9.0, 'LIT20A': 13.5, 'LIT67A': 11.0, 'SYSFB14': 9.0, 'P-2X-2YGE9': 6.0, 'DIST10_SP': 8.0, 'EG6C': 6.0, 'TRANSFORMN031': 1.5, 'LIT58A': 13.0, 'DISTFB03_SP': 8.0, 'BH1T10C': 14.0, 'BH1T10B': 14.0, 'TRANSFORMG013': 2.0, 'TRANSFORMA002': 2.0, 'TRANSFORMA003': 2.0, 'EG16A': 5.0, 'TRANSFORMA006': 2.5, 'DIST06_SP': 7.0, 'EG8B': 8.0, 'EG8C': 8.0, 'TRANSFORMA008': 2.0, 'TRANSFORMA009': 1.5, 'NEWSQUARE8TRE': 8.0, 'BH1T28C': 10.0, 'LIT51A': 8.0, 'LIT10A': 8.0, 'EG-S-FACTOR01': 12.0, 'EG-S-FACTOR03': 4.0, 'EG-S-FACTOR02': 4.0, 'EG-S-FACTOR05': 4.0, 'EG-S-FACTOR04': 4.0, 'EG-S-FACTOR07': 4.0, 'EG-S-FACTOR06': 5.0, 'EG-S-FACTOR09': 4.0, 'EG-S-FACTOR08': 4.0, 'FBSMR1': 10.0, 'FBSMR2': 14.0, 'FBSMR3': 10.5, 'LIT42': 9.0, 'IPCCHEF': 7.0, 'EG46A': 8.0, 'LIT41': 13.0, 'LIT46': 7.0, 'LIT47': 8.0, 'LIT44': 11.0, 'EG34B': 5.0, 'EG34C': 5.0, 'LIT48': 9.0, 'EG34A': 6.0, 'LIT63A': 11.0, 'TRANSFORMV003': 2.25, 'LDEMO_WSLVR': 14.0, 'TRANSFORMV001': 3.0, 'PERCENT05C': 10.0, 'EG4-FIXED': 9.0, 'TRANSFORMV006': 3.0, 'TRANSFORMV005': 2.25, 'TRANSFORMV004': 2.0, 'TRANSFORMV009': 2.5, 'TRANSFORMV008': 3.0, 'X-3YGE20': 5.0, 'NEWS01C': 10.0, '7X-4YGE15': 5.0, 'NEWS01B': 8.0, 'NEWS01A': 9.0, 'BH1T36A': 10.0, 'BH1T36C': 13.0, 'BH1T36B': 13.0, 'L5FB04A': 9.0, 'L5FB04B': 12.0, 'L5FB04C': 17.0, 'BH1T03': 5.0, 'BH1T02': 9.0, 'LIT83A': 22.0, 'BH1T07': 7.0, 'BH1T06': 9.0, 'BH1T05': 5.0, 'BH1T04': 6.0, 'L3NOV08': 6.5, 'L3NOV07': 10.0, 'L3NOV12B': 14.0, 'L3NOV12A': 15.0, 'DISTFB05_SP': 7.0, 'LIT4A': 4.0, 'EG51A': 9.0, 'TRANSFORMG058': 2.75, 'L5FB03C': 11.5, 'NEWSQUARE1TRE': 8.0}\n"
       ]
      }
     ],
     "prompt_number": 47
    },
    {
     "cell_type": "code",
     "collapsed": false,
     "input": [
      "import operator"
     ],
     "language": "python",
     "metadata": {},
     "outputs": [],
     "prompt_number": 69
    },
    {
     "cell_type": "code",
     "collapsed": false,
     "input": [
      "sorted_times = sorted(pmedian_times.iteritems(), key=operator.itemgetter(1), reverse=True)"
     ],
     "language": "python",
     "metadata": {},
     "outputs": [],
     "prompt_number": 86
    },
    {
     "cell_type": "code",
     "collapsed": false,
     "input": [
      "traindata.columns"
     ],
     "language": "python",
     "metadata": {},
     "outputs": [
      {
       "metadata": {},
       "output_type": "pyout",
       "prompt_number": 88,
       "text": [
        "Index([u'Row', u'Anon Student Id', u'Problem Hierarchy', u'Problem Name', u'Problem View', u'Step Name', u'Step Start Time', u'First Transaction Time', u'Correct Transaction Time', u'Step End Time', u'Step Duration (sec)', u'Correct Step Duration (sec)', u'Error Step Duration (sec)', u'Correct First Attempt', u'Incorrects', u'Hints', u'Corrects', u'KC(Default)', u'Opportunity(Default)'], dtype='object')"
       ]
      }
     ],
     "prompt_number": 88
    },
    {
     "cell_type": "code",
     "collapsed": false,
     "input": [
      "traindata['Step Name']"
     ],
     "language": "python",
     "metadata": {},
     "outputs": [
      {
       "metadata": {},
       "output_type": "pyout",
       "prompt_number": 89,
       "text": [
        "0        3(x+2) = 15\n",
        "1            x+2 = 5\n",
        "2          2-8y = -4\n",
        "3           -8y = -6\n",
        "4         -7y-5 = -4\n",
        "5            -7y = 1\n",
        "6           7y+4 = 7\n",
        "7             7y = 3\n",
        "8         -5+9y = -6\n",
        "9            9y = -1\n",
        "10        -7-3x = -2\n",
        "11    -7-3x+7 = -2+7\n",
        "12           -3x = 5\n",
        "13     -3x/-3 = 5/-3\n",
        "14         -9 = 8y+9\n",
        "...\n",
        "809679             -4x = 5\n",
        "809680       -4x/-4 = 5/-4\n",
        "809681            x = 5/-4\n",
        "809682          0 = -1y-10\n",
        "809683    0+10 = -1y-10+10\n",
        "809684      10 = -1y-10+10\n",
        "809685            10 = -1y\n",
        "809686      10/-1 = -1y/-1\n",
        "809687        -10 = -1y/-1\n",
        "809688           -7+2x = 4\n",
        "809689       -7+2x+7 = 4+7\n",
        "809690            2x = 4+7\n",
        "809691             2x = 11\n",
        "809692         2x/2 = 11/2\n",
        "809693           -2+5x = 8\n",
        "Name: Step Name, Length: 809694, dtype: object"
       ]
      }
     ],
     "prompt_number": 89
    },
    {
     "cell_type": "code",
     "collapsed": false,
     "input": [],
     "language": "python",
     "metadata": {},
     "outputs": []
    }
   ],
   "metadata": {}
  }
 ]
}