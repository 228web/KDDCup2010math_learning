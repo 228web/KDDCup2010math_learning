{
 "metadata": {
  "name": "",
  "signature": "sha256:f4d27b1ede47ef0217dc64e64332364aca50cf1540ca78c89c47918bafe28e36"
 },
 "nbformat": 3,
 "nbformat_minor": 0,
 "worksheets": [
  {
   "cells": [
    {
     "cell_type": "markdown",
     "metadata": {},
     "source": [
      "#Predicting Student Performance\n",
      "\n",
      "###A data science experiment using data from the KDD 2010 Educational Data Mining Challenge\n",
      "\n",
      "The aim of this IPython Notebook is to show how we can use Python to build predictive algorithms that solve data science problems in the arena of education.\n",
      "\n",
      "**This notebook is still heavily under construction**"
     ]
    },
    {
     "cell_type": "code",
     "collapsed": false,
     "input": [
      "import pandas as pd\n",
      "import numpy as np\n",
      "import matplotlib.pyplot as plt"
     ],
     "language": "python",
     "metadata": {},
     "outputs": [],
     "prompt_number": 37
    },
    {
     "cell_type": "code",
     "collapsed": false,
     "input": [
      "# Get the data: Algebra 2005-2006\n",
      "train_filepath = 'data/algebra0506/algebra_2005_2006_train.txt'\n",
      "test_filepath  = 'data/algebra0506/algebra_2005_2006_test.txt'\n",
      "traindata = pd.read_table(train_filepath)"
     ],
     "language": "python",
     "metadata": {},
     "outputs": [],
     "prompt_number": 3
    },
    {
     "cell_type": "markdown",
     "metadata": {},
     "source": [
      "Some more information the data format can be found on the [challenge website](https://pslcdatashop.web.cmu.edu/KDDCup/rules_data_format.jsp)"
     ]
    },
    {
     "cell_type": "code",
     "collapsed": false,
     "input": [
      "# Inspect some of the training data\n",
      "traindata.head()"
     ],
     "language": "python",
     "metadata": {},
     "outputs": [
      {
       "html": [
        "<div style=\"max-height:1000px;max-width:1500px;overflow:auto;\">\n",
        "<table border=\"1\" class=\"dataframe\">\n",
        "  <thead>\n",
        "    <tr style=\"text-align: right;\">\n",
        "      <th></th>\n",
        "      <th>Row</th>\n",
        "      <th>Anon Student Id</th>\n",
        "      <th>Problem Hierarchy</th>\n",
        "      <th>Problem Name</th>\n",
        "      <th>Problem View</th>\n",
        "      <th>Step Name</th>\n",
        "      <th>Step Start Time</th>\n",
        "      <th>First Transaction Time</th>\n",
        "      <th>Correct Transaction Time</th>\n",
        "      <th>Step End Time</th>\n",
        "      <th>Step Duration (sec)</th>\n",
        "      <th>Correct Step Duration (sec)</th>\n",
        "      <th>Error Step Duration (sec)</th>\n",
        "      <th>Correct First Attempt</th>\n",
        "      <th>Incorrects</th>\n",
        "      <th>Hints</th>\n",
        "      <th>Corrects</th>\n",
        "      <th>KC(Default)</th>\n",
        "      <th>Opportunity(Default)</th>\n",
        "    </tr>\n",
        "  </thead>\n",
        "  <tbody>\n",
        "    <tr>\n",
        "      <th>0</th>\n",
        "      <td> 1</td>\n",
        "      <td> 0BrbPbwCMz</td>\n",
        "      <td> Unit ES_04, Section ES_04-1</td>\n",
        "      <td> EG4-FIXED</td>\n",
        "      <td> 1</td>\n",
        "      <td> 3(x+2) = 15</td>\n",
        "      <td> 2005-09-09 12:24:35.0</td>\n",
        "      <td> 2005-09-09 12:24:49.0</td>\n",
        "      <td> 2005-09-09 12:25:15.0</td>\n",
        "      <td> 2005-09-09 12:25:15.0</td>\n",
        "      <td>  40</td>\n",
        "      <td> NaN</td>\n",
        "      <td> 40</td>\n",
        "      <td> 0</td>\n",
        "      <td> 2</td>\n",
        "      <td> 3</td>\n",
        "      <td> 1</td>\n",
        "      <td> [SkillRule: Eliminate Parens; {CLT nested; CLT...</td>\n",
        "      <td>    1</td>\n",
        "    </tr>\n",
        "    <tr>\n",
        "      <th>1</th>\n",
        "      <td> 2</td>\n",
        "      <td> 0BrbPbwCMz</td>\n",
        "      <td> Unit ES_04, Section ES_04-1</td>\n",
        "      <td> EG4-FIXED</td>\n",
        "      <td> 1</td>\n",
        "      <td>     x+2 = 5</td>\n",
        "      <td> 2005-09-09 12:25:15.0</td>\n",
        "      <td> 2005-09-09 12:25:31.0</td>\n",
        "      <td> 2005-09-09 12:25:31.0</td>\n",
        "      <td> 2005-09-09 12:25:31.0</td>\n",
        "      <td>  16</td>\n",
        "      <td>  16</td>\n",
        "      <td>NaN</td>\n",
        "      <td> 1</td>\n",
        "      <td> 0</td>\n",
        "      <td> 0</td>\n",
        "      <td> 1</td>\n",
        "      <td> [SkillRule: Remove constant; {ax+b=c, positive...</td>\n",
        "      <td> 1~~1</td>\n",
        "    </tr>\n",
        "    <tr>\n",
        "      <th>2</th>\n",
        "      <td> 3</td>\n",
        "      <td> 0BrbPbwCMz</td>\n",
        "      <td> Unit ES_04, Section ES_04-1</td>\n",
        "      <td>      EG40</td>\n",
        "      <td> 1</td>\n",
        "      <td>   2-8y = -4</td>\n",
        "      <td> 2005-09-09 12:25:36.0</td>\n",
        "      <td> 2005-09-09 12:25:43.0</td>\n",
        "      <td> 2005-09-09 12:26:12.0</td>\n",
        "      <td> 2005-09-09 12:26:12.0</td>\n",
        "      <td>  36</td>\n",
        "      <td> NaN</td>\n",
        "      <td> 36</td>\n",
        "      <td> 0</td>\n",
        "      <td> 2</td>\n",
        "      <td> 3</td>\n",
        "      <td> 1</td>\n",
        "      <td> [SkillRule: Remove constant; {ax+b=c, positive...</td>\n",
        "      <td>    2</td>\n",
        "    </tr>\n",
        "    <tr>\n",
        "      <th>3</th>\n",
        "      <td> 4</td>\n",
        "      <td> 0BrbPbwCMz</td>\n",
        "      <td> Unit ES_04, Section ES_04-1</td>\n",
        "      <td>      EG40</td>\n",
        "      <td> 1</td>\n",
        "      <td>    -8y = -6</td>\n",
        "      <td> 2005-09-09 12:26:12.0</td>\n",
        "      <td> 2005-09-09 12:26:34.0</td>\n",
        "      <td> 2005-09-09 12:26:34.0</td>\n",
        "      <td> 2005-09-09 12:26:34.0</td>\n",
        "      <td>  22</td>\n",
        "      <td>  22</td>\n",
        "      <td>NaN</td>\n",
        "      <td> 1</td>\n",
        "      <td> 0</td>\n",
        "      <td> 0</td>\n",
        "      <td> 1</td>\n",
        "      <td> [SkillRule: Remove coefficient; {ax+b=c, divid...</td>\n",
        "      <td> 1~~1</td>\n",
        "    </tr>\n",
        "    <tr>\n",
        "      <th>4</th>\n",
        "      <td> 5</td>\n",
        "      <td> 0BrbPbwCMz</td>\n",
        "      <td> Unit ES_04, Section ES_04-1</td>\n",
        "      <td>      EG40</td>\n",
        "      <td> 2</td>\n",
        "      <td>  -7y-5 = -4</td>\n",
        "      <td> 2005-09-09 12:26:38.0</td>\n",
        "      <td> 2005-09-09 12:28:36.0</td>\n",
        "      <td> 2005-09-09 12:28:36.0</td>\n",
        "      <td> 2005-09-09 12:28:36.0</td>\n",
        "      <td> 118</td>\n",
        "      <td> 118</td>\n",
        "      <td>NaN</td>\n",
        "      <td> 1</td>\n",
        "      <td> 0</td>\n",
        "      <td> 0</td>\n",
        "      <td> 1</td>\n",
        "      <td> [SkillRule: Remove constant; {ax+b=c, positive...</td>\n",
        "      <td> 3~~1</td>\n",
        "    </tr>\n",
        "  </tbody>\n",
        "</table>\n",
        "<p>5 rows \u00d7 19 columns</p>\n",
        "</div>"
       ],
       "metadata": {},
       "output_type": "pyout",
       "prompt_number": 5,
       "text": [
        "   Row Anon Student Id            Problem Hierarchy Problem Name  \\\n",
        "0    1      0BrbPbwCMz  Unit ES_04, Section ES_04-1    EG4-FIXED   \n",
        "1    2      0BrbPbwCMz  Unit ES_04, Section ES_04-1    EG4-FIXED   \n",
        "2    3      0BrbPbwCMz  Unit ES_04, Section ES_04-1         EG40   \n",
        "3    4      0BrbPbwCMz  Unit ES_04, Section ES_04-1         EG40   \n",
        "4    5      0BrbPbwCMz  Unit ES_04, Section ES_04-1         EG40   \n",
        "\n",
        "   Problem View    Step Name        Step Start Time First Transaction Time  \\\n",
        "0             1  3(x+2) = 15  2005-09-09 12:24:35.0  2005-09-09 12:24:49.0   \n",
        "1             1      x+2 = 5  2005-09-09 12:25:15.0  2005-09-09 12:25:31.0   \n",
        "2             1    2-8y = -4  2005-09-09 12:25:36.0  2005-09-09 12:25:43.0   \n",
        "3             1     -8y = -6  2005-09-09 12:26:12.0  2005-09-09 12:26:34.0   \n",
        "4             2   -7y-5 = -4  2005-09-09 12:26:38.0  2005-09-09 12:28:36.0   \n",
        "\n",
        "  Correct Transaction Time          Step End Time  Step Duration (sec)  \\\n",
        "0    2005-09-09 12:25:15.0  2005-09-09 12:25:15.0                   40   \n",
        "1    2005-09-09 12:25:31.0  2005-09-09 12:25:31.0                   16   \n",
        "2    2005-09-09 12:26:12.0  2005-09-09 12:26:12.0                   36   \n",
        "3    2005-09-09 12:26:34.0  2005-09-09 12:26:34.0                   22   \n",
        "4    2005-09-09 12:28:36.0  2005-09-09 12:28:36.0                  118   \n",
        "\n",
        "   Correct Step Duration (sec)  Error Step Duration (sec)  \\\n",
        "0                          NaN                         40   \n",
        "1                           16                        NaN   \n",
        "2                          NaN                         36   \n",
        "3                           22                        NaN   \n",
        "4                          118                        NaN   \n",
        "\n",
        "   Correct First Attempt  Incorrects  Hints  Corrects  \\\n",
        "0                      0           2      3         1   \n",
        "1                      1           0      0         1   \n",
        "2                      0           2      3         1   \n",
        "3                      1           0      0         1   \n",
        "4                      1           0      0         1   \n",
        "\n",
        "                                         KC(Default) Opportunity(Default)  \n",
        "0  [SkillRule: Eliminate Parens; {CLT nested; CLT...                    1  \n",
        "1  [SkillRule: Remove constant; {ax+b=c, positive...                 1~~1  \n",
        "2  [SkillRule: Remove constant; {ax+b=c, positive...                    2  \n",
        "3  [SkillRule: Remove coefficient; {ax+b=c, divid...                 1~~1  \n",
        "4  [SkillRule: Remove constant; {ax+b=c, positive...                 3~~1  \n",
        "\n",
        "[5 rows x 19 columns]"
       ]
      }
     ],
     "prompt_number": 5
    },
    {
     "cell_type": "markdown",
     "metadata": {},
     "source": [
      "Let's begin asking some basic questions of the data\n",
      "\n",
      "### How many students are interacting with the system?"
     ]
    },
    {
     "cell_type": "code",
     "collapsed": false,
     "input": [
      "# Take the column of anonimized student IDs and count the number of unique entries\n",
      "print 'Number of students: ', len(np.unique(traindata['Anon Student Id']))"
     ],
     "language": "python",
     "metadata": {},
     "outputs": [
      {
       "output_type": "stream",
       "stream": "stdout",
       "text": [
        "Number of students:  574\n"
       ]
      }
     ],
     "prompt_number": 14
    },
    {
     "cell_type": "markdown",
     "metadata": {},
     "source": [
      "### How long does it take a student to solve any problem on average?"
     ]
    },
    {
     "cell_type": "code",
     "collapsed": false,
     "input": [
      "csd = traindata['Correct Step Duration (sec)']\n",
      "csd.describe()"
     ],
     "language": "python",
     "metadata": {},
     "outputs": [
      {
       "metadata": {},
       "output_type": "pyout",
       "prompt_number": 33,
       "text": [
        "count    620129.000000\n",
        "mean         18.071478\n",
        "std          34.796694\n",
        "min           0.000000\n",
        "25%           5.000000\n",
        "50%           8.000000\n",
        "75%          18.000000\n",
        "max        1907.000000\n",
        "Name: Correct Step Duration (sec), dtype: float64"
       ]
      }
     ],
     "prompt_number": 33
    },
    {
     "cell_type": "markdown",
     "metadata": {},
     "source": [
      "So ignoring all the students that did not solve a problem correctly, the average duraction for any problem was about 18 seconds.\n",
      "\n",
      "Let's histogram this data to see the distribution."
     ]
    },
    {
     "cell_type": "code",
     "collapsed": false,
     "input": [
      "durations = np.linspace(csd.min(), csd.max(), 50)"
     ],
     "language": "python",
     "metadata": {},
     "outputs": [],
     "prompt_number": 34
    },
    {
     "cell_type": "code",
     "collapsed": false,
     "input": [
      "%matplotlib inline\n",
      "hist = plt.hist(np.array(csd.dropna()),bins=100,normed=True,log=False,range=(0,100))\n",
      "plt.xlabel('Time to correct answer (sec)')\n",
      "plt.ylabel('Fraction')\n",
      "plt.show()"
     ],
     "language": "python",
     "metadata": {},
     "outputs": [
      {
       "metadata": {},
       "output_type": "display_data",
       "png": "[encoded data removed]",
       "text": [
        "<matplotlib.figure.Figure at 0x10a888990>"
       ]
      }
     ],
     "prompt_number": 71
    },
    {
     "cell_type": "code",
     "collapsed": false,
     "input": [
      "counts, bins = hist[0], hist[1]\n",
      "cdf = np.cumsum(counts)\n",
      "plt.plot(bins[1::], cdf)\n",
      "plt.xlabel('Time to correct answer (sec)')\n",
      "plt.ylabel('Cumulative fraction')\n",
      "plt.axis((0,100,0,1.0))\n",
      "plt.show()"
     ],
     "language": "python",
     "metadata": {},
     "outputs": [
      {
       "metadata": {},
       "output_type": "display_data",
       "png": "[encoded data removed]",
       "text": [
        "<matplotlib.figure.Figure at 0x10a880510>"
       ]
      }
     ],
     "prompt_number": 86
    },
    {
     "cell_type": "markdown",
     "metadata": {},
     "source": [
      "The histogram shows visually what mere statistics hints at. The distribution of students is heavily weighted towards those who are solving problems in under 20 seconds. The cumulative distribution function (CDF) shows that roughly 80% of successful students solve the problem within 20 seconds. After 40 seconds, 90% of successful students have finished the problem. Almost no students take longer than 80 seconds."
     ]
    },
    {
     "cell_type": "code",
     "collapsed": false,
     "input": [],
     "language": "python",
     "metadata": {},
     "outputs": []
    }
   ],
   "metadata": {}
  }
 ]
}